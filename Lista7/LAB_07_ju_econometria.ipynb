{
 "cells": [
  {
   "cell_type": "code",
   "execution_count": 2,
   "metadata": {},
   "outputs": [
    {
     "name": "stderr",
     "output_type": "stream",
     "text": [
      "\u001b[32m\u001b[1m   Resolving\u001b[22m\u001b[39m package versions..."
     ]
    },
    {
     "name": "stderr",
     "output_type": "stream",
     "text": [
      "\n",
      "\u001b[32m\u001b[1m    Updating\u001b[22m\u001b[39m `C:\\Users\\Lenovo\\.julia\\environments\\v1.9\\Project.toml`\n"
     ]
    },
    {
     "name": "stderr",
     "output_type": "stream",
     "text": [
      "\u001b[33m⌅\u001b[39m \u001b[90m[09f84164] \u001b[39m\u001b[92m+ HypothesisTests v0.10.13\u001b[39m\n",
      "\u001b[32m\u001b[1m  No Changes\u001b[22m\u001b[39m to `C:\\Users\\Lenovo\\.julia\\environments\\v1.9\\Manifest.toml`"
     ]
    },
    {
     "name": "stderr",
     "output_type": "stream",
     "text": [
      "\n"
     ]
    }
   ],
   "source": [
    "import Pkg; Pkg.add(\"HypothesisTests\")\n",
    "import Pkg; Pkg.add(\"StatsFuns\")"
   ]
  },
  {
   "cell_type": "code",
   "execution_count": 3,
   "metadata": {},
   "outputs": [],
   "source": [
    "using WooldridgeDatasets, DataFrames, CSV, GLM, HypothesisTests\n"
   ]
  },
  {
   "cell_type": "code",
   "execution_count": 24,
   "metadata": {},
   "outputs": [],
   "source": [
    "using GLM, Distributions"
   ]
  },
  {
   "cell_type": "code",
   "execution_count": 19,
   "metadata": {},
   "outputs": [
    {
     "name": "stdout",
     "output_type": "stream",
     "text": [
      "StatsModels.TableRegressionModel{LinearModel{GLM.LmResp{Vector{Float64}}, GLM.DensePredChol{Float64, LinearAlgebra.CholeskyPivoted{Float64, Matrix{Float64}, Vector{Int64}}}}, Matrix{Float64}}\n",
      "\n",
      ":(log(salary)) ~ 1 + :(log(sales)) + roe + rosneg\n",
      "\n",
      "Coefficients:\n",
      "────────────────────────────────────────────────────────────────────────────\n",
      "                  Coef.  Std. Error      t  Pr(>|t|)   Lower 95%   Upper 95%\n",
      "────────────────────────────────────────────────────────────────────────────\n"
     ]
    },
    {
     "name": "stdout",
     "output_type": "stream",
     "text": [
      "(Intercept)   4.2976     0.293253    14.65    <1e-33   3.71942     4.87578\n",
      "log(sales)    0.288387   0.0336172    8.58    <1e-14   0.222107    0.354667\n",
      "roe           0.0166571  0.00396809   4.20    <1e-04   0.0088336   0.0244806\n",
      "rosneg       -0.225675   0.109338    -2.06    0.0403  -0.441246   -0.0101039\n",
      "────────────────────────────────────────────────────────────────────────────\n"
     ]
    }
   ],
   "source": [
    "# Carregar o dataset\n",
    "df  = DataFrame(wooldridge(\"ceosal1\"))\n",
    "\n",
    "# Criar a variável dummy 'rosneg'\n",
    "df.rosneg = ifelse.(df.ros .< 0, 1, 0)\n",
    "\n",
    "# Ajustar o modelo\n",
    "model = lm(@formula(log(salary) ~ log(sales) + roe + rosneg), df)\n",
    "\n",
    "# Mostrar o resumo do modelo\n",
    "println(model)\n",
    "\n"
   ]
  },
  {
   "cell_type": "code",
   "execution_count": 26,
   "metadata": {},
   "outputs": [
    {
     "data": {
      "text/plain": [
       "103.34010413084557"
      ]
     },
     "metadata": {},
     "output_type": "display_data"
    }
   ],
   "source": [
    "# Aplicar o teste RESET\n",
    "\n",
    "fitted_values = predict(model)\n",
    "df.fitted2 = fitted_values.^2\n",
    "df.fitted3 = fitted_values.^3\n",
    "\n",
    "model_extended = lm(@formula(log(salary) ~ log(sales) + roe + rosneg + fitted2 + fitted3), df)\n",
    "\n"
   ]
  },
  {
   "cell_type": "code",
   "execution_count": 28,
   "metadata": {},
   "outputs": [
    {
     "name": "stdout",
     "output_type": "stream",
     "text": [
      "0.2675832784098469\n"
     ]
    }
   ],
   "source": [
    "ssr_reduced = deviance(model)\n",
    "ssr_full = deviance(model_extended)\n",
    "k = 2\n",
    "n = nrow(df)\n",
    "p = dof(model_extended)\n",
    "\n",
    "F_statistic = ((ssr_reduced - ssr_full) / k) / (ssr_full / (n - p))\n",
    "\n",
    "# P-valor para o teste F com k e n-p graus de liberdade\n",
    "p_value = ccdf(FDist(k, n - p), F_statistic)\n",
    "println(p_value)\n",
    "#esta bem especificado"
   ]
  }
 ],
 "metadata": {
  "kernelspec": {
   "display_name": "Julia 1.9.2",
   "language": "julia",
   "name": "julia-1.9"
  },
  "language_info": {
   "file_extension": ".jl",
   "mimetype": "application/julia",
   "name": "julia",
   "version": "1.9.2"
  }
 },
 "nbformat": 4,
 "nbformat_minor": 2
}
