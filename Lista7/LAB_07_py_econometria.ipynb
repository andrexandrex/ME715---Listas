{
 "cells": [
  {
   "cell_type": "code",
   "execution_count": 1,
   "metadata": {},
   "outputs": [],
   "source": [
    "import pandas as pd\n",
    "import numpy as np\n",
    "import statsmodels.api as sm\n",
    "import statsmodels.formula.api as smf\n",
    "from statsmodels.stats.outliers_influence import reset_ramsey\n",
    "\n"
   ]
  },
  {
   "cell_type": "code",
   "execution_count": 2,
   "metadata": {},
   "outputs": [],
   "source": [
    "\n",
    "df = sm.datasets.get_rdataset('ceosal1', 'wooldridge').data\n",
    "\n"
   ]
  },
  {
   "cell_type": "code",
   "execution_count": 3,
   "metadata": {},
   "outputs": [],
   "source": [
    "# Criar a variável dummy 'rosneg'\n",
    "df['rosneg'] = np.where(df['ros'] < 0, 1, 0)\n",
    "\n"
   ]
  },
  {
   "cell_type": "code",
   "execution_count": 6,
   "metadata": {},
   "outputs": [
    {
     "name": "stdout",
     "output_type": "stream",
     "text": [
      "                            OLS Regression Results                            \n",
      "==============================================================================\n",
      "Dep. Variable:         np.log(salary)   R-squared:                       0.297\n",
      "Model:                            OLS   Adj. R-squared:                  0.286\n",
      "Method:                 Least Squares   F-statistic:                     28.81\n",
      "Date:                Wed, 25 Oct 2023   Prob (F-statistic):           1.37e-15\n",
      "Time:                        20:21:01   Log-Likelihood:                -140.47\n",
      "No. Observations:                 209   AIC:                             288.9\n",
      "Df Residuals:                     205   BIC:                             302.3\n",
      "Df Model:                           3                                         \n",
      "Covariance Type:            nonrobust                                         \n",
      "=================================================================================\n",
      "                    coef    std err          t      P>|t|      [0.025      0.975]\n",
      "---------------------------------------------------------------------------------\n",
      "Intercept         4.2976      0.293     14.655      0.000       3.719       4.876\n",
      "np.log(sales)     0.2884      0.034      8.579      0.000       0.222       0.355\n",
      "roe               0.0167      0.004      4.198      0.000       0.009       0.024\n",
      "rosneg           -0.2257      0.109     -2.064      0.040      -0.441      -0.010\n",
      "==============================================================================\n",
      "Omnibus:                       97.645   Durbin-Watson:                   1.958\n",
      "Prob(Omnibus):                  0.000   Jarque-Bera (JB):              566.341\n",
      "Skew:                           1.720   Prob(JB):                    1.05e-123\n",
      "Kurtosis:                      10.294   Cond. No.                         184.\n",
      "==============================================================================\n",
      "\n",
      "Notes:\n",
      "[1] Standard Errors assume that the covariance matrix of the errors is correctly specified.\n"
     ]
    }
   ],
   "source": [
    "# Ajustar o modelo\n",
    "model = smf.ols(formula='np.log(salary) ~ np.log(sales) + roe + rosneg', data=df).fit()\n",
    "\n",
    "print(model.summary())\n"
   ]
  },
  {
   "cell_type": "code",
   "execution_count": 5,
   "metadata": {},
   "outputs": [
    {
     "name": "stdout",
     "output_type": "stream",
     "text": [
      "<F test: F=1.3335349929475986, p=0.2658426202345005, df_denom=203, df_num=2>\n"
     ]
    }
   ],
   "source": [
    "# Aplicar o teste RESET\n",
    "reset_test = reset_ramsey(model, degree=3)  # O grau 3 corresponde ao teste para potências 2 e 3 do fitted\n",
    "print(reset_test)\n",
    "#esta bem especificado"
   ]
  }
 ],
 "metadata": {
  "kernelspec": {
   "display_name": "Python 3",
   "language": "python",
   "name": "python3"
  },
  "language_info": {
   "codemirror_mode": {
    "name": "ipython",
    "version": 3
   },
   "file_extension": ".py",
   "mimetype": "text/x-python",
   "name": "python",
   "nbconvert_exporter": "python",
   "pygments_lexer": "ipython3",
   "version": "3.9.0"
  }
 },
 "nbformat": 4,
 "nbformat_minor": 2
}
