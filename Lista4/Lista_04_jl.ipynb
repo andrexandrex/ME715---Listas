{
 "cells": [
  {
   "cell_type": "code",
   "execution_count": 2,
   "metadata": {},
   "outputs": [],
   "source": [
    "using DataFrames, WooldridgeDatasets, GLM, Distributions"
   ]
  },
  {
   "cell_type": "markdown",
   "metadata": {},
   "source": [
    "# Lista 04"
   ]
  },
  {
   "cell_type": "markdown",
   "metadata": {},
   "source": [
    "## Questão 01\n",
    "$P_{H0}(|T| > |t_{obs}|) = 2P_{H0}(T < -|t_{obs}|) = 0,086 \\implies P_{H0}(T < -|t_{obs}|) = \\frac{0,086}{2} = 0,043$"
   ]
  },
  {
   "cell_type": "markdown",
   "metadata": {},
   "source": [
    "## Questão 03"
   ]
  },
  {
   "cell_type": "code",
   "execution_count": 3,
   "metadata": {},
   "outputs": [
    {
     "data": {
      "text/html": [
       "<div><div style = \"float: left;\"><span>5×8 DataFrame</span></div><div style = \"clear: both;\"></div></div><div class = \"data-frame\" style = \"overflow-x: scroll;\"><table class = \"data-frame\" style = \"margin-bottom: 6px;\"><thead><tr class = \"header\"><th class = \"rowNumber\" style = \"font-weight: bold; text-align: right;\">Row</th><th style = \"text-align: left;\">rd</th><th style = \"text-align: left;\">sales</th><th style = \"text-align: left;\">profits</th><th style = \"text-align: left;\">rdintens</th><th style = \"text-align: left;\">profmarg</th><th style = \"text-align: left;\">salessq</th><th style = \"text-align: left;\">lsales</th><th style = \"text-align: left;\">lrd</th></tr><tr class = \"subheader headerLastRow\"><th class = \"rowNumber\" style = \"font-weight: bold; text-align: right;\"></th><th title = \"Float64\" style = \"text-align: left;\">Float64</th><th title = \"Float64\" style = \"text-align: left;\">Float64</th><th title = \"Float64\" style = \"text-align: left;\">Float64</th><th title = \"Float64\" style = \"text-align: left;\">Float64</th><th title = \"Float64\" style = \"text-align: left;\">Float64</th><th title = \"Float64\" style = \"text-align: left;\">Float64</th><th title = \"Float64\" style = \"text-align: left;\">Float64</th><th title = \"Float64\" style = \"text-align: left;\">Float64</th></tr></thead><tbody><tr><td class = \"rowNumber\" style = \"font-weight: bold; text-align: right;\">1</td><td style = \"text-align: right;\">430.6</td><td style = \"text-align: right;\">4570.2</td><td style = \"text-align: right;\">186.9</td><td style = \"text-align: right;\">9.42191</td><td style = \"text-align: right;\">4.08954</td><td style = \"text-align: right;\">2.08867e7</td><td style = \"text-align: right;\">8.42731</td><td style = \"text-align: right;\">6.06518</td></tr><tr><td class = \"rowNumber\" style = \"font-weight: bold; text-align: right;\">2</td><td style = \"text-align: right;\">59.0</td><td style = \"text-align: right;\">2830.0</td><td style = \"text-align: right;\">467.0</td><td style = \"text-align: right;\">2.08481</td><td style = \"text-align: right;\">16.5018</td><td style = \"text-align: right;\">8.0089e6</td><td style = \"text-align: right;\">7.94803</td><td style = \"text-align: right;\">4.07754</td></tr><tr><td class = \"rowNumber\" style = \"font-weight: bold; text-align: right;\">3</td><td style = \"text-align: right;\">23.5</td><td style = \"text-align: right;\">596.8</td><td style = \"text-align: right;\">107.4</td><td style = \"text-align: right;\">3.93767</td><td style = \"text-align: right;\">17.996</td><td style = \"text-align: right;\">3.5617e5</td><td style = \"text-align: right;\">6.39158</td><td style = \"text-align: right;\">3.157</td></tr><tr><td class = \"rowNumber\" style = \"font-weight: bold; text-align: right;\">4</td><td style = \"text-align: right;\">3.5</td><td style = \"text-align: right;\">133.6</td><td style = \"text-align: right;\">-4.3</td><td style = \"text-align: right;\">2.61976</td><td style = \"text-align: right;\">-3.21856</td><td style = \"text-align: right;\">17849.0</td><td style = \"text-align: right;\">4.89485</td><td style = \"text-align: right;\">1.25276</td></tr><tr><td class = \"rowNumber\" style = \"font-weight: bold; text-align: right;\">5</td><td style = \"text-align: right;\">1.7</td><td style = \"text-align: right;\">42.0</td><td style = \"text-align: right;\">8.0</td><td style = \"text-align: right;\">4.04762</td><td style = \"text-align: right;\">19.0476</td><td style = \"text-align: right;\">1764.0</td><td style = \"text-align: right;\">3.73767</td><td style = \"text-align: right;\">0.530628</td></tr></tbody></table></div>"
      ],
      "text/latex": [
       "\\begin{tabular}{r|cccccccc}\n",
       "\t& rd & sales & profits & rdintens & profmarg & salessq & lsales & lrd\\\\\n",
       "\t\\hline\n",
       "\t& Float64 & Float64 & Float64 & Float64 & Float64 & Float64 & Float64 & Float64\\\\\n",
       "\t\\hline\n",
       "\t1 & 430.6 & 4570.2 & 186.9 & 9.42191 & 4.08954 & 2.08867e7 & 8.42731 & 6.06518 \\\\\n",
       "\t2 & 59.0 & 2830.0 & 467.0 & 2.08481 & 16.5018 & 8.0089e6 & 7.94803 & 4.07754 \\\\\n",
       "\t3 & 23.5 & 596.8 & 107.4 & 3.93767 & 17.996 & 3.5617e5 & 6.39158 & 3.157 \\\\\n",
       "\t4 & 3.5 & 133.6 & -4.3 & 2.61976 & -3.21856 & 17849.0 & 4.89485 & 1.25276 \\\\\n",
       "\t5 & 1.7 & 42.0 & 8.0 & 4.04762 & 19.0476 & 1764.0 & 3.73767 & 0.530628 \\\\\n",
       "\\end{tabular}\n"
      ],
      "text/plain": [
       "\u001b[1m5×8 DataFrame\u001b[0m\n",
       "\u001b[1m Row \u001b[0m│\u001b[1m rd      \u001b[0m\u001b[1m sales   \u001b[0m\u001b[1m profits \u001b[0m\u001b[1m rdintens \u001b[0m\u001b[1m profmarg \u001b[0m\u001b[1m salessq       \u001b[0m\u001b[1m lsales  \u001b[0m\u001b[1m \u001b[0m ⋯\n",
       "     │\u001b[90m Float64 \u001b[0m\u001b[90m Float64 \u001b[0m\u001b[90m Float64 \u001b[0m\u001b[90m Float64  \u001b[0m\u001b[90m Float64  \u001b[0m\u001b[90m Float64       \u001b[0m\u001b[90m Float64 \u001b[0m\u001b[90m \u001b[0m ⋯\n",
       "─────┼──────────────────────────────────────────────────────────────────────────\n",
       "   1 │   430.6   4570.2    186.9   9.42191   4.08954      2.08867e7  8.42731   ⋯\n",
       "   2 │    59.0   2830.0    467.0   2.08481  16.5018       8.0089e6   7.94803\n",
       "   3 │    23.5    596.8    107.4   3.93767  17.996        3.5617e5   6.39158\n",
       "   4 │     3.5    133.6     -4.3   2.61976  -3.21856  17849.0        4.89485\n",
       "   5 │     1.7     42.0      8.0   4.04762  19.0476    1764.0        3.73767   ⋯\n",
       "\u001b[36m                                                                1 column omitted\u001b[0m"
      ]
     },
     "execution_count": 3,
     "metadata": {},
     "output_type": "execute_result"
    }
   ],
   "source": [
    "rdchem = DataFrame(wooldridge(\"rdchem\"))\n",
    "first(rdchem, 5)"
   ]
  },
  {
   "cell_type": "code",
   "execution_count": 4,
   "metadata": {},
   "outputs": [
    {
     "data": {
      "text/plain": [
       "StatsModels.TableRegressionModel{LinearModel{GLM.LmResp{Vector{Float64}}, GLM.DensePredChol{Float64, LinearAlgebra.CholeskyPivoted{Float64, Matrix{Float64}, Vector{Int64}}}}, Matrix{Float64}}\n",
       "\n",
       "rdintens ~ 1 + :(log(sales)) + profmarg\n",
       "\n",
       "Coefficients:\n",
       "─────────────────────────────────────────────────────────────────────────\n",
       "                 Coef.  Std. Error     t  Pr(>|t|)   Lower 95%  Upper 95%\n",
       "─────────────────────────────────────────────────────────────────────────\n",
       "(Intercept)  0.472254    1.67606    0.28    0.7801  -2.95567     3.90017\n",
       "log(sales)   0.321348    0.215569   1.49    0.1468  -0.119539    0.762236\n",
       "profmarg     0.0500367   0.0457768  1.09    0.2834  -0.0435874   0.143661\n",
       "─────────────────────────────────────────────────────────────────────────"
      ]
     },
     "execution_count": 4,
     "metadata": {},
     "output_type": "execute_result"
    }
   ],
   "source": [
    "modelo1 = lm(@formula(rdintens ~ log(sales) + profmarg), rdchem)"
   ]
  },
  {
   "cell_type": "markdown",
   "metadata": {},
   "source": [
    "### Item a\n",
    "\n",
    "$\\Delta y = (\\beta_1 / 100)\\% \\Delta x$\n",
    "\n",
    "Quando `sales` aumenta em 1%, é esperado que `rdintens` aumente 0,003"
   ]
  },
  {
   "cell_type": "markdown",
   "metadata": {},
   "source": [
    "## Questão 04"
   ]
  },
  {
   "cell_type": "code",
   "execution_count": 5,
   "metadata": {},
   "outputs": [
    {
     "data": {
      "text/html": [
       "<div><div style = \"float: left;\"><span>5×29 DataFrame</span></div><div style = \"clear: both;\"></div></div><div class = \"data-frame\" style = \"overflow-x: scroll;\"><table class = \"data-frame\" style = \"margin-bottom: 6px;\"><thead><tr class = \"header\"><th class = \"rowNumber\" style = \"font-weight: bold; text-align: right;\">Row</th><th style = \"text-align: left;\">age</th><th style = \"text-align: left;\">soph</th><th style = \"text-align: left;\">junior</th><th style = \"text-align: left;\">senior</th><th style = \"text-align: left;\">senior5</th><th style = \"text-align: left;\">male</th><th style = \"text-align: left;\">campus</th><th style = \"text-align: left;\">business</th><th style = \"text-align: left;\">engineer</th><th style = \"text-align: left;\">colGPA</th><th style = \"text-align: left;\">hsGPA</th><th style = \"text-align: left;\">ACT</th><th style = \"text-align: left;\">job19</th><th style = \"text-align: left;\">job20</th><th style = \"text-align: left;\">drive</th><th style = \"text-align: left;\">bike</th><th style = \"text-align: left;\">walk</th><th style = \"text-align: left;\">voluntr</th><th style = \"text-align: left;\">PC</th><th style = \"text-align: left;\">greek</th><th style = \"text-align: left;\">car</th><th style = \"text-align: left;\">siblings</th><th style = \"text-align: left;\">bgfriend</th><th style = \"text-align: left;\">clubs</th><th style = \"text-align: left;\">skipped</th><th style = \"text-align: left;\">alcohol</th><th style = \"text-align: left;\">gradMI</th><th style = \"text-align: left;\">fathcoll</th><th style = \"text-align: left;\">mothcoll</th></tr><tr class = \"subheader headerLastRow\"><th class = \"rowNumber\" style = \"font-weight: bold; text-align: right;\"></th><th title = \"Int64\" style = \"text-align: left;\">Int64</th><th title = \"Int64\" style = \"text-align: left;\">Int64</th><th title = \"Int64\" style = \"text-align: left;\">Int64</th><th title = \"Int64\" style = \"text-align: left;\">Int64</th><th title = \"Int64\" style = \"text-align: left;\">Int64</th><th title = \"Int64\" style = \"text-align: left;\">Int64</th><th title = \"Int64\" style = \"text-align: left;\">Int64</th><th title = \"Int64\" style = \"text-align: left;\">Int64</th><th title = \"Int64\" style = \"text-align: left;\">Int64</th><th title = \"Float64\" style = \"text-align: left;\">Float64</th><th title = \"Float64\" style = \"text-align: left;\">Float64</th><th title = \"Int64\" style = \"text-align: left;\">Int64</th><th title = \"Int64\" style = \"text-align: left;\">Int64</th><th title = \"Int64\" style = \"text-align: left;\">Int64</th><th title = \"Int64\" style = \"text-align: left;\">Int64</th><th title = \"Int64\" style = \"text-align: left;\">Int64</th><th title = \"Int64\" style = \"text-align: left;\">Int64</th><th title = \"Int64\" style = \"text-align: left;\">Int64</th><th title = \"Int64\" style = \"text-align: left;\">Int64</th><th title = \"Int64\" style = \"text-align: left;\">Int64</th><th title = \"Int64\" style = \"text-align: left;\">Int64</th><th title = \"Int64\" style = \"text-align: left;\">Int64</th><th title = \"Int64\" style = \"text-align: left;\">Int64</th><th title = \"Int64\" style = \"text-align: left;\">Int64</th><th title = \"Float64\" style = \"text-align: left;\">Float64</th><th title = \"Float64\" style = \"text-align: left;\">Float64</th><th title = \"Int64\" style = \"text-align: left;\">Int64</th><th title = \"Int64\" style = \"text-align: left;\">Int64</th><th title = \"Int64\" style = \"text-align: left;\">Int64</th></tr></thead><tbody><tr><td class = \"rowNumber\" style = \"font-weight: bold; text-align: right;\">1</td><td style = \"text-align: right;\">21</td><td style = \"text-align: right;\">0</td><td style = \"text-align: right;\">0</td><td style = \"text-align: right;\">1</td><td style = \"text-align: right;\">0</td><td style = \"text-align: right;\">0</td><td style = \"text-align: right;\">0</td><td style = \"text-align: right;\">1</td><td style = \"text-align: right;\">0</td><td style = \"text-align: right;\">3.0</td><td style = \"text-align: right;\">3.0</td><td style = \"text-align: right;\">21</td><td style = \"text-align: right;\">0</td><td style = \"text-align: right;\">1</td><td style = \"text-align: right;\">1</td><td style = \"text-align: right;\">0</td><td style = \"text-align: right;\">0</td><td style = \"text-align: right;\">0</td><td style = \"text-align: right;\">0</td><td style = \"text-align: right;\">0</td><td style = \"text-align: right;\">1</td><td style = \"text-align: right;\">1</td><td style = \"text-align: right;\">0</td><td style = \"text-align: right;\">0</td><td style = \"text-align: right;\">2.0</td><td style = \"text-align: right;\">1.0</td><td style = \"text-align: right;\">1</td><td style = \"text-align: right;\">0</td><td style = \"text-align: right;\">0</td></tr><tr><td class = \"rowNumber\" style = \"font-weight: bold; text-align: right;\">2</td><td style = \"text-align: right;\">21</td><td style = \"text-align: right;\">0</td><td style = \"text-align: right;\">0</td><td style = \"text-align: right;\">1</td><td style = \"text-align: right;\">0</td><td style = \"text-align: right;\">0</td><td style = \"text-align: right;\">0</td><td style = \"text-align: right;\">1</td><td style = \"text-align: right;\">0</td><td style = \"text-align: right;\">3.4</td><td style = \"text-align: right;\">3.2</td><td style = \"text-align: right;\">24</td><td style = \"text-align: right;\">0</td><td style = \"text-align: right;\">1</td><td style = \"text-align: right;\">1</td><td style = \"text-align: right;\">0</td><td style = \"text-align: right;\">0</td><td style = \"text-align: right;\">0</td><td style = \"text-align: right;\">0</td><td style = \"text-align: right;\">0</td><td style = \"text-align: right;\">1</td><td style = \"text-align: right;\">0</td><td style = \"text-align: right;\">1</td><td style = \"text-align: right;\">1</td><td style = \"text-align: right;\">0.0</td><td style = \"text-align: right;\">1.0</td><td style = \"text-align: right;\">1</td><td style = \"text-align: right;\">1</td><td style = \"text-align: right;\">1</td></tr><tr><td class = \"rowNumber\" style = \"font-weight: bold; text-align: right;\">3</td><td style = \"text-align: right;\">20</td><td style = \"text-align: right;\">0</td><td style = \"text-align: right;\">1</td><td style = \"text-align: right;\">0</td><td style = \"text-align: right;\">0</td><td style = \"text-align: right;\">0</td><td style = \"text-align: right;\">0</td><td style = \"text-align: right;\">1</td><td style = \"text-align: right;\">0</td><td style = \"text-align: right;\">3.0</td><td style = \"text-align: right;\">3.6</td><td style = \"text-align: right;\">26</td><td style = \"text-align: right;\">1</td><td style = \"text-align: right;\">0</td><td style = \"text-align: right;\">0</td><td style = \"text-align: right;\">0</td><td style = \"text-align: right;\">1</td><td style = \"text-align: right;\">0</td><td style = \"text-align: right;\">0</td><td style = \"text-align: right;\">0</td><td style = \"text-align: right;\">1</td><td style = \"text-align: right;\">1</td><td style = \"text-align: right;\">0</td><td style = \"text-align: right;\">1</td><td style = \"text-align: right;\">0.0</td><td style = \"text-align: right;\">1.0</td><td style = \"text-align: right;\">1</td><td style = \"text-align: right;\">1</td><td style = \"text-align: right;\">1</td></tr><tr><td class = \"rowNumber\" style = \"font-weight: bold; text-align: right;\">4</td><td style = \"text-align: right;\">19</td><td style = \"text-align: right;\">1</td><td style = \"text-align: right;\">0</td><td style = \"text-align: right;\">0</td><td style = \"text-align: right;\">0</td><td style = \"text-align: right;\">1</td><td style = \"text-align: right;\">1</td><td style = \"text-align: right;\">1</td><td style = \"text-align: right;\">0</td><td style = \"text-align: right;\">3.5</td><td style = \"text-align: right;\">3.5</td><td style = \"text-align: right;\">27</td><td style = \"text-align: right;\">1</td><td style = \"text-align: right;\">0</td><td style = \"text-align: right;\">0</td><td style = \"text-align: right;\">0</td><td style = \"text-align: right;\">1</td><td style = \"text-align: right;\">0</td><td style = \"text-align: right;\">0</td><td style = \"text-align: right;\">0</td><td style = \"text-align: right;\">0</td><td style = \"text-align: right;\">1</td><td style = \"text-align: right;\">0</td><td style = \"text-align: right;\">0</td><td style = \"text-align: right;\">0.0</td><td style = \"text-align: right;\">0.0</td><td style = \"text-align: right;\">0</td><td style = \"text-align: right;\">0</td><td style = \"text-align: right;\">0</td></tr><tr><td class = \"rowNumber\" style = \"font-weight: bold; text-align: right;\">5</td><td style = \"text-align: right;\">20</td><td style = \"text-align: right;\">0</td><td style = \"text-align: right;\">1</td><td style = \"text-align: right;\">0</td><td style = \"text-align: right;\">0</td><td style = \"text-align: right;\">0</td><td style = \"text-align: right;\">0</td><td style = \"text-align: right;\">1</td><td style = \"text-align: right;\">0</td><td style = \"text-align: right;\">3.6</td><td style = \"text-align: right;\">3.9</td><td style = \"text-align: right;\">28</td><td style = \"text-align: right;\">0</td><td style = \"text-align: right;\">1</td><td style = \"text-align: right;\">0</td><td style = \"text-align: right;\">1</td><td style = \"text-align: right;\">0</td><td style = \"text-align: right;\">0</td><td style = \"text-align: right;\">0</td><td style = \"text-align: right;\">0</td><td style = \"text-align: right;\">1</td><td style = \"text-align: right;\">1</td><td style = \"text-align: right;\">1</td><td style = \"text-align: right;\">0</td><td style = \"text-align: right;\">0.0</td><td style = \"text-align: right;\">1.5</td><td style = \"text-align: right;\">1</td><td style = \"text-align: right;\">1</td><td style = \"text-align: right;\">0</td></tr></tbody></table></div>"
      ],
      "text/latex": [
       "\\begin{tabular}{r|ccccccccccc}\n",
       "\t& age & soph & junior & senior & senior5 & male & campus & business & engineer & colGPA & \\\\\n",
       "\t\\hline\n",
       "\t& Int64 & Int64 & Int64 & Int64 & Int64 & Int64 & Int64 & Int64 & Int64 & Float64 & \\\\\n",
       "\t\\hline\n",
       "\t1 & 21 & 0 & 0 & 1 & 0 & 0 & 0 & 1 & 0 & 3.0 & $\\dots$ \\\\\n",
       "\t2 & 21 & 0 & 0 & 1 & 0 & 0 & 0 & 1 & 0 & 3.4 & $\\dots$ \\\\\n",
       "\t3 & 20 & 0 & 1 & 0 & 0 & 0 & 0 & 1 & 0 & 3.0 & $\\dots$ \\\\\n",
       "\t4 & 19 & 1 & 0 & 0 & 0 & 1 & 1 & 1 & 0 & 3.5 & $\\dots$ \\\\\n",
       "\t5 & 20 & 0 & 1 & 0 & 0 & 0 & 0 & 1 & 0 & 3.6 & $\\dots$ \\\\\n",
       "\\end{tabular}\n"
      ],
      "text/plain": [
       "\u001b[1m5×29 DataFrame\u001b[0m\n",
       "\u001b[1m Row \u001b[0m│\u001b[1m age   \u001b[0m\u001b[1m soph  \u001b[0m\u001b[1m junior \u001b[0m\u001b[1m senior \u001b[0m\u001b[1m senior5 \u001b[0m\u001b[1m male  \u001b[0m\u001b[1m campus \u001b[0m\u001b[1m business \u001b[0m\u001b[1m enginee\u001b[0m ⋯\n",
       "     │\u001b[90m Int64 \u001b[0m\u001b[90m Int64 \u001b[0m\u001b[90m Int64  \u001b[0m\u001b[90m Int64  \u001b[0m\u001b[90m Int64   \u001b[0m\u001b[90m Int64 \u001b[0m\u001b[90m Int64  \u001b[0m\u001b[90m Int64    \u001b[0m\u001b[90m Int64  \u001b[0m ⋯\n",
       "─────┼──────────────────────────────────────────────────────────────────────────\n",
       "   1 │    21      0       0       1        0      0       0         1          ⋯\n",
       "   2 │    21      0       0       1        0      0       0         1\n",
       "   3 │    20      0       1       0        0      0       0         1\n",
       "   4 │    19      1       0       0        0      1       1         1\n",
       "   5 │    20      0       1       0        0      0       0         1          ⋯\n",
       "\u001b[36m                                                              21 columns omitted\u001b[0m"
      ]
     },
     "execution_count": 5,
     "metadata": {},
     "output_type": "execute_result"
    }
   ],
   "source": [
    "gpa1 = DataFrame(wooldridge(\"gpa1\"))\n",
    "first(gpa1, 5)"
   ]
  },
  {
   "cell_type": "code",
   "execution_count": 6,
   "metadata": {},
   "outputs": [
    {
     "data": {
      "text/plain": [
       "StatsModels.TableRegressionModel{LinearModel{GLM.LmResp{Vector{Float64}}, GLM.DensePredChol{Float64, LinearAlgebra.CholeskyPivoted{Float64, Matrix{Float64}, Vector{Int64}}}}, Matrix{Float64}}\n",
       "\n",
       "colGPA ~ 1 + skipped + hsGPA + ACT\n",
       "\n",
       "Coefficients:\n",
       "─────────────────────────────────────────────────────────────────────────────\n",
       "                  Coef.  Std. Error      t  Pr(>|t|)    Lower 95%   Upper 95%\n",
       "─────────────────────────────────────────────────────────────────────────────\n",
       "(Intercept)   1.38955     0.331554    4.19    <1e-04   0.73393      2.04518\n",
       "skipped      -0.0831131   0.0259985  -3.20    0.0017  -0.134523    -0.0317028\n",
       "hsGPA         0.411816    0.0936742   4.40    <1e-04   0.226582     0.59705\n",
       "ACT           0.0147202   0.0105649   1.39    0.1658  -0.00617107   0.0356115\n",
       "─────────────────────────────────────────────────────────────────────────────"
      ]
     },
     "execution_count": 6,
     "metadata": {},
     "output_type": "execute_result"
    }
   ],
   "source": [
    "modelo2 = lm(@formula(colGPA ~ skipped + hsGPA + ACT), gpa1)"
   ]
  },
  {
   "cell_type": "markdown",
   "metadata": {},
   "source": [
    "### Item a\n",
    "\n",
    "$P(-t_{0,025; n-k-1} < \\frac{\\hat{\\beta_{hsGPA}} - \\beta_{hsGPA}}{\\sqrt{V(\\hat{\\beta_{hsGPA}} | X)}} < t_{0,025; n-k-1}) = 0,95$"
   ]
  },
  {
   "cell_type": "code",
   "execution_count": 7,
   "metadata": {},
   "outputs": [
    {
     "data": {
      "text/plain": [
       "(0.22658185110578052, 0.5970504923693317)"
      ]
     },
     "execution_count": 7,
     "metadata": {},
     "output_type": "execute_result"
    }
   ],
   "source": [
    "IC95_inf = coef(modelo2)[3] + stderror(modelo2)[3] * quantile(TDist(nrow(gpa1) - 4), 0.025)\n",
    "IC95_sup = coef(modelo2)[3] - stderror(modelo2)[3] * quantile(TDist(nrow(gpa1) - 4), 0.025)\n",
    "\n",
    "IC95_inf, IC95_sup"
   ]
  },
  {
   "cell_type": "markdown",
   "metadata": {},
   "source": [
    "### Item b\n",
    "\n",
    "$H_0: \\beta_{hsGPA} = 0,4 \\ vs. \\ H_1: \\beta_{hsGPA} \\neq 0,4 \\\\$ \n",
    "$pvalor = P_{H0}(|T| > |t_{obs}|)$"
   ]
  },
  {
   "cell_type": "code",
   "execution_count": 15,
   "metadata": {},
   "outputs": [
    {
     "data": {
      "text/plain": [
       "0.8998051414602578"
      ]
     },
     "execution_count": 15,
     "metadata": {},
     "output_type": "execute_result"
    }
   ],
   "source": [
    "tobs = (coef(modelo2)[3] - 0.4) / stderror(modelo2)[3]\n",
    "pvalor = 2 * cdf(TDist(nrow(gpa1)-4), -tobs)\n"
   ]
  },
  {
   "cell_type": "code",
   "execution_count": 18,
   "metadata": {},
   "outputs": [
    {
     "data": {
      "text/plain": [
       "4.204251632295657e-9"
      ]
     },
     "execution_count": 18,
     "metadata": {},
     "output_type": "execute_result"
    }
   ],
   "source": [
    "tobs = (coef(modelo2)[3] - 1) / stderror(modelo2)[3]\n",
    "pvalor = 2 * cdf(TDist(nrow(gpa1)-4), tobs)"
   ]
  },
  {
   "cell_type": "markdown",
   "metadata": {},
   "source": [
    "### Item d\n",
    "$H_0: \\beta_{skipped} = \\beta_{ACT} = 0 \\ vs. \\ H_1: \\text{pelo menos 1 é diferente de 0}$ "
   ]
  },
  {
   "cell_type": "code",
   "execution_count": 40,
   "metadata": {},
   "outputs": [
    {
     "data": {
      "text/plain": [
       "0.004957052819108521"
      ]
     },
     "execution_count": 40,
     "metadata": {},
     "output_type": "execute_result"
    }
   ],
   "source": [
    "modelor = lm(@formula(colGPA ~ hsGPA), gpa1)\n",
    "SQRi = sum(residuals(modelo2) .^ 2)\n",
    "SQRr = sum(residuals(modelor) .^ 2)\n",
    "\n",
    "Fobs = ((SQRr-SQRi)/SQRi) * ((nrow(gpa1)-4)/2)\n",
    "pvalor = 1 - cdf(FDist(2, nrow(gpa1)-4), Fobs)"
   ]
  },
  {
   "cell_type": "markdown",
   "metadata": {},
   "source": [
    "## Questão 05"
   ]
  },
  {
   "cell_type": "code",
   "execution_count": 42,
   "metadata": {},
   "outputs": [
    {
     "data": {
      "text/html": [
       "<div><div style = \"float: left;\"><span>5×17 DataFrame</span></div><div style = \"clear: both;\"></div></div><div class = \"data-frame\" style = \"overflow-x: scroll;\"><table class = \"data-frame\" style = \"margin-bottom: 6px;\"><thead><tr class = \"header\"><th class = \"rowNumber\" style = \"font-weight: bold; text-align: right;\">Row</th><th style = \"text-align: left;\">wage</th><th style = \"text-align: left;\">hours</th><th style = \"text-align: left;\">IQ</th><th style = \"text-align: left;\">KWW</th><th style = \"text-align: left;\">educ</th><th style = \"text-align: left;\">exper</th><th style = \"text-align: left;\">tenure</th><th style = \"text-align: left;\">age</th><th style = \"text-align: left;\">married</th><th style = \"text-align: left;\">black</th><th style = \"text-align: left;\">south</th><th style = \"text-align: left;\">urban</th><th style = \"text-align: left;\">sibs</th><th style = \"text-align: left;\">brthord</th><th style = \"text-align: left;\">meduc</th><th style = \"text-align: left;\">feduc</th><th style = \"text-align: left;\">lwage</th></tr><tr class = \"subheader headerLastRow\"><th class = \"rowNumber\" style = \"font-weight: bold; text-align: right;\"></th><th title = \"Int64\" style = \"text-align: left;\">Int64</th><th title = \"Int64\" style = \"text-align: left;\">Int64</th><th title = \"Int64\" style = \"text-align: left;\">Int64</th><th title = \"Int64\" style = \"text-align: left;\">Int64</th><th title = \"Int64\" style = \"text-align: left;\">Int64</th><th title = \"Int64\" style = \"text-align: left;\">Int64</th><th title = \"Int64\" style = \"text-align: left;\">Int64</th><th title = \"Int64\" style = \"text-align: left;\">Int64</th><th title = \"Int64\" style = \"text-align: left;\">Int64</th><th title = \"Int64\" style = \"text-align: left;\">Int64</th><th title = \"Int64\" style = \"text-align: left;\">Int64</th><th title = \"Int64\" style = \"text-align: left;\">Int64</th><th title = \"Int64\" style = \"text-align: left;\">Int64</th><th title = \"Union{Missing, Int64}\" style = \"text-align: left;\">Int64?</th><th title = \"Union{Missing, Int64}\" style = \"text-align: left;\">Int64?</th><th title = \"Union{Missing, Int64}\" style = \"text-align: left;\">Int64?</th><th title = \"Float64\" style = \"text-align: left;\">Float64</th></tr></thead><tbody><tr><td class = \"rowNumber\" style = \"font-weight: bold; text-align: right;\">1</td><td style = \"text-align: right;\">769</td><td style = \"text-align: right;\">40</td><td style = \"text-align: right;\">93</td><td style = \"text-align: right;\">35</td><td style = \"text-align: right;\">12</td><td style = \"text-align: right;\">11</td><td style = \"text-align: right;\">2</td><td style = \"text-align: right;\">31</td><td style = \"text-align: right;\">1</td><td style = \"text-align: right;\">0</td><td style = \"text-align: right;\">0</td><td style = \"text-align: right;\">1</td><td style = \"text-align: right;\">1</td><td style = \"text-align: right;\">2</td><td style = \"text-align: right;\">8</td><td style = \"text-align: right;\">8</td><td style = \"text-align: right;\">6.64509</td></tr><tr><td class = \"rowNumber\" style = \"font-weight: bold; text-align: right;\">2</td><td style = \"text-align: right;\">808</td><td style = \"text-align: right;\">50</td><td style = \"text-align: right;\">119</td><td style = \"text-align: right;\">41</td><td style = \"text-align: right;\">18</td><td style = \"text-align: right;\">11</td><td style = \"text-align: right;\">16</td><td style = \"text-align: right;\">37</td><td style = \"text-align: right;\">1</td><td style = \"text-align: right;\">0</td><td style = \"text-align: right;\">0</td><td style = \"text-align: right;\">1</td><td style = \"text-align: right;\">1</td><td style = \"font-style: italic; text-align: right;\">missing</td><td style = \"text-align: right;\">14</td><td style = \"text-align: right;\">14</td><td style = \"text-align: right;\">6.69456</td></tr><tr><td class = \"rowNumber\" style = \"font-weight: bold; text-align: right;\">3</td><td style = \"text-align: right;\">825</td><td style = \"text-align: right;\">40</td><td style = \"text-align: right;\">108</td><td style = \"text-align: right;\">46</td><td style = \"text-align: right;\">14</td><td style = \"text-align: right;\">11</td><td style = \"text-align: right;\">9</td><td style = \"text-align: right;\">33</td><td style = \"text-align: right;\">1</td><td style = \"text-align: right;\">0</td><td style = \"text-align: right;\">0</td><td style = \"text-align: right;\">1</td><td style = \"text-align: right;\">1</td><td style = \"text-align: right;\">2</td><td style = \"text-align: right;\">14</td><td style = \"text-align: right;\">14</td><td style = \"text-align: right;\">6.71538</td></tr><tr><td class = \"rowNumber\" style = \"font-weight: bold; text-align: right;\">4</td><td style = \"text-align: right;\">650</td><td style = \"text-align: right;\">40</td><td style = \"text-align: right;\">96</td><td style = \"text-align: right;\">32</td><td style = \"text-align: right;\">12</td><td style = \"text-align: right;\">13</td><td style = \"text-align: right;\">7</td><td style = \"text-align: right;\">32</td><td style = \"text-align: right;\">1</td><td style = \"text-align: right;\">0</td><td style = \"text-align: right;\">0</td><td style = \"text-align: right;\">1</td><td style = \"text-align: right;\">4</td><td style = \"text-align: right;\">3</td><td style = \"text-align: right;\">12</td><td style = \"text-align: right;\">12</td><td style = \"text-align: right;\">6.47697</td></tr><tr><td class = \"rowNumber\" style = \"font-weight: bold; text-align: right;\">5</td><td style = \"text-align: right;\">562</td><td style = \"text-align: right;\">40</td><td style = \"text-align: right;\">74</td><td style = \"text-align: right;\">27</td><td style = \"text-align: right;\">11</td><td style = \"text-align: right;\">14</td><td style = \"text-align: right;\">5</td><td style = \"text-align: right;\">34</td><td style = \"text-align: right;\">1</td><td style = \"text-align: right;\">0</td><td style = \"text-align: right;\">0</td><td style = \"text-align: right;\">1</td><td style = \"text-align: right;\">10</td><td style = \"text-align: right;\">6</td><td style = \"text-align: right;\">6</td><td style = \"text-align: right;\">11</td><td style = \"text-align: right;\">6.3315</td></tr></tbody></table></div>"
      ],
      "text/latex": [
       "\\begin{tabular}{r|cccccccccccc}\n",
       "\t& wage & hours & IQ & KWW & educ & exper & tenure & age & married & black & south & \\\\\n",
       "\t\\hline\n",
       "\t& Int64 & Int64 & Int64 & Int64 & Int64 & Int64 & Int64 & Int64 & Int64 & Int64 & Int64 & \\\\\n",
       "\t\\hline\n",
       "\t1 & 769 & 40 & 93 & 35 & 12 & 11 & 2 & 31 & 1 & 0 & 0 & $\\dots$ \\\\\n",
       "\t2 & 808 & 50 & 119 & 41 & 18 & 11 & 16 & 37 & 1 & 0 & 0 & $\\dots$ \\\\\n",
       "\t3 & 825 & 40 & 108 & 46 & 14 & 11 & 9 & 33 & 1 & 0 & 0 & $\\dots$ \\\\\n",
       "\t4 & 650 & 40 & 96 & 32 & 12 & 13 & 7 & 32 & 1 & 0 & 0 & $\\dots$ \\\\\n",
       "\t5 & 562 & 40 & 74 & 27 & 11 & 14 & 5 & 34 & 1 & 0 & 0 & $\\dots$ \\\\\n",
       "\\end{tabular}\n"
      ],
      "text/plain": [
       "\u001b[1m5×17 DataFrame\u001b[0m\n",
       "\u001b[1m Row \u001b[0m│\u001b[1m wage  \u001b[0m\u001b[1m hours \u001b[0m\u001b[1m IQ    \u001b[0m\u001b[1m KWW   \u001b[0m\u001b[1m educ  \u001b[0m\u001b[1m exper \u001b[0m\u001b[1m tenure \u001b[0m\u001b[1m age   \u001b[0m\u001b[1m married \u001b[0m\u001b[1m black\u001b[0m ⋯\n",
       "     │\u001b[90m Int64 \u001b[0m\u001b[90m Int64 \u001b[0m\u001b[90m Int64 \u001b[0m\u001b[90m Int64 \u001b[0m\u001b[90m Int64 \u001b[0m\u001b[90m Int64 \u001b[0m\u001b[90m Int64  \u001b[0m\u001b[90m Int64 \u001b[0m\u001b[90m Int64   \u001b[0m\u001b[90m Int64\u001b[0m ⋯\n",
       "─────┼──────────────────────────────────────────────────────────────────────────\n",
       "   1 │   769     40     93     35     12     11       2     31        1      0 ⋯\n",
       "   2 │   808     50    119     41     18     11      16     37        1      0\n",
       "   3 │   825     40    108     46     14     11       9     33        1      0\n",
       "   4 │   650     40     96     32     12     13       7     32        1      0\n",
       "   5 │   562     40     74     27     11     14       5     34        1      0 ⋯\n",
       "\u001b[36m                                                               7 columns omitted\u001b[0m"
      ]
     },
     "execution_count": 42,
     "metadata": {},
     "output_type": "execute_result"
    }
   ],
   "source": [
    "wage2 = DataFrame(wooldridge(\"wage2\"))\n",
    "first(wage2, 5)"
   ]
  },
  {
   "cell_type": "code",
   "execution_count": 43,
   "metadata": {},
   "outputs": [
    {
     "data": {
      "text/plain": [
       "StatsModels.TableRegressionModel{LinearModel{GLM.LmResp{Vector{Float64}}, GLM.DensePredChol{Float64, LinearAlgebra.CholeskyPivoted{Float64, Matrix{Float64}, Vector{Int64}}}}, Matrix{Float64}}\n",
       "\n",
       ":(log(wage)) ~ 1 + educ + exper + tenure\n",
       "\n",
       "Coefficients:\n",
       "──────────────────────────────────────────────────────────────────────────\n",
       "                 Coef.  Std. Error      t  Pr(>|t|)   Lower 95%  Upper 95%\n",
       "──────────────────────────────────────────────────────────────────────────\n",
       "(Intercept)  5.4967     0.110528    49.73    <1e-99  5.27978     5.71361\n",
       "educ         0.0748638  0.00651245  11.50    <1e-27  0.062083    0.0876446\n",
       "exper        0.0153285  0.00336957   4.55    <1e-05  0.00871564  0.0219413\n",
       "tenure       0.0133748  0.00258719   5.17    <1e-06  0.00829739  0.0184522\n",
       "──────────────────────────────────────────────────────────────────────────"
      ]
     },
     "execution_count": 43,
     "metadata": {},
     "output_type": "execute_result"
    }
   ],
   "source": [
    "modelo3 = lm(@formula(log(wage) ~ educ + exper + tenure), wage2)"
   ]
  },
  {
   "cell_type": "markdown",
   "metadata": {},
   "source": [
    "### Item a\n"
   ]
  },
  {
   "cell_type": "code",
   "execution_count": 47,
   "metadata": {},
   "outputs": [
    {
     "data": {
      "text/plain": [
       "F-test: 2 models fitted on 935 observations\n",
       "───────────────────────────────────────────────────────────────────\n",
       "     DOF  ΔDOF       SSR      ΔSSR      R²     ΔR²       F*   p(>F)\n",
       "───────────────────────────────────────────────────────────────────\n",
       "[1]    2        165.6563            0.0000                         \n",
       "[2]    5     3  139.9610  -25.6953  0.1551  0.1551  56.9739  <1e-33\n",
       "───────────────────────────────────────────────────────────────────"
      ]
     },
     "execution_count": 47,
     "metadata": {},
     "output_type": "execute_result"
    }
   ],
   "source": [
    "modelor = lm(@formula(log(wage) ~ 1), wage2);\n",
    "ftest(modelor.model, modelo3.model)\n"
   ]
  },
  {
   "cell_type": "markdown",
   "metadata": {},
   "source": [
    "### Item b\n",
    "$\\beta_2 = \\beta_3 \\implies \\beta_2 - \\beta_3 = 0$"
   ]
  },
  {
   "cell_type": "code",
   "execution_count": 62,
   "metadata": {},
   "outputs": [
    {
     "data": {
      "text/plain": [
       "StatsModels.TableRegressionModel{LinearModel{GLM.LmResp{Vector{Float64}}, GLM.DensePredChol{Float64, LinearAlgebra.CholeskyPivoted{Float64, Matrix{Float64}, Vector{Int64}}}}, Matrix{Float64}}\n",
       "\n",
       ":(log(wage)) ~ 1 + educ + newvar\n",
       "\n",
       "Coefficients:\n",
       "───────────────────────────────────────────────────────────────────────────────\n",
       "                   Coef.  Std. Error      t  Pr(>|t|)    Lower 95%    Upper 95%\n",
       "───────────────────────────────────────────────────────────────────────────────\n",
       "(Intercept)   6.03388     0.0890591   67.75    <1e-99   5.8591      6.20866\n",
       "educ          0.0565914   0.00626597   9.03    <1e-18   0.0442944   0.0688885\n",
       "newvar       -0.00394292  0.00235792  -1.67    0.0948  -0.00857037  0.000684522\n",
       "───────────────────────────────────────────────────────────────────────────────"
      ]
     },
     "execution_count": 62,
     "metadata": {},
     "output_type": "execute_result"
    }
   ],
   "source": [
    "wage2.newvar = wage2.exper - wage2.tenure\n",
    "\n",
    "modelor = lm(@formula(log(wage) ~ educ + newvar), wage2)"
   ]
  },
  {
   "cell_type": "markdown",
   "metadata": {},
   "source": [
    "### Item c"
   ]
  },
  {
   "cell_type": "code",
   "execution_count": 51,
   "metadata": {},
   "outputs": [
    {
     "data": {
      "text/plain": [
       "0.0"
      ]
     },
     "execution_count": 51,
     "metadata": {},
     "output_type": "execute_result"
    }
   ],
   "source": [
    "modelor = lm(@formula(log(wage) ~ tenure), wage2)\n",
    "\n",
    "SQRi = sum(residuals(modelo3) .^ 2)\n",
    "SQRr = sum(residuals(modelor) .^ 2)\n",
    "\n",
    "Fobs = ((SQRr-SQRi)/SQRi) * ((nrow(wage2)-4)/2)\n",
    "pvalor = 1 - cdf(FDist(2, nrow(wage2)-4), Fobs)"
   ]
  },
  {
   "cell_type": "markdown",
   "metadata": {},
   "source": [
    "## Questão 06"
   ]
  },
  {
   "cell_type": "code",
   "execution_count": 53,
   "metadata": {},
   "outputs": [
    {
     "data": {
      "text/html": [
       "<div><div style = \"float: left;\"><span>5×23 DataFrame</span></div><div style = \"clear: both;\"></div></div><div class = \"data-frame\" style = \"overflow-x: scroll;\"><table class = \"data-frame\" style = \"margin-bottom: 6px;\"><thead><tr class = \"header\"><th class = \"rowNumber\" style = \"font-weight: bold; text-align: right;\">Row</th><th style = \"text-align: left;\">wage</th><th style = \"text-align: left;\">abil</th><th style = \"text-align: left;\">educ</th><th style = \"text-align: left;\">ne</th><th style = \"text-align: left;\">nc</th><th style = \"text-align: left;\">west</th><th style = \"text-align: left;\">south</th><th style = \"text-align: left;\">exper</th><th style = \"text-align: left;\">motheduc</th><th style = \"text-align: left;\">fatheduc</th><th style = \"text-align: left;\">brkhme14</th><th style = \"text-align: left;\">sibs</th><th style = \"text-align: left;\">urban</th><th style = \"text-align: left;\">ne18</th><th style = \"text-align: left;\">nc18</th><th style = \"text-align: left;\">south18</th><th style = \"text-align: left;\">west18</th><th style = \"text-align: left;\">urban18</th><th style = \"text-align: left;\">tuit17</th><th style = \"text-align: left;\">tuit18</th><th style = \"text-align: left;\">lwage</th><th style = \"text-align: left;\">expersq</th><th style = \"text-align: left;\">ctuit</th></tr><tr class = \"subheader headerLastRow\"><th class = \"rowNumber\" style = \"font-weight: bold; text-align: right;\"></th><th title = \"Float64\" style = \"text-align: left;\">Float64</th><th title = \"Float64\" style = \"text-align: left;\">Float64</th><th title = \"Int64\" style = \"text-align: left;\">Int64</th><th title = \"Int64\" style = \"text-align: left;\">Int64</th><th title = \"Int64\" style = \"text-align: left;\">Int64</th><th title = \"Int64\" style = \"text-align: left;\">Int64</th><th title = \"Int64\" style = \"text-align: left;\">Int64</th><th title = \"Int64\" style = \"text-align: left;\">Int64</th><th title = \"Int64\" style = \"text-align: left;\">Int64</th><th title = \"Int64\" style = \"text-align: left;\">Int64</th><th title = \"Int64\" style = \"text-align: left;\">Int64</th><th title = \"Int64\" style = \"text-align: left;\">Int64</th><th title = \"Int64\" style = \"text-align: left;\">Int64</th><th title = \"Int64\" style = \"text-align: left;\">Int64</th><th title = \"Int64\" style = \"text-align: left;\">Int64</th><th title = \"Int64\" style = \"text-align: left;\">Int64</th><th title = \"Int64\" style = \"text-align: left;\">Int64</th><th title = \"Int64\" style = \"text-align: left;\">Int64</th><th title = \"Float64\" style = \"text-align: left;\">Float64</th><th title = \"Float64\" style = \"text-align: left;\">Float64</th><th title = \"Float64\" style = \"text-align: left;\">Float64</th><th title = \"Int64\" style = \"text-align: left;\">Int64</th><th title = \"Float64\" style = \"text-align: left;\">Float64</th></tr></thead><tbody><tr><td class = \"rowNumber\" style = \"font-weight: bold; text-align: right;\">1</td><td style = \"text-align: right;\">12.0192</td><td style = \"text-align: right;\">5.02774</td><td style = \"text-align: right;\">15</td><td style = \"text-align: right;\">0</td><td style = \"text-align: right;\">0</td><td style = \"text-align: right;\">1</td><td style = \"text-align: right;\">0</td><td style = \"text-align: right;\">9</td><td style = \"text-align: right;\">12</td><td style = \"text-align: right;\">12</td><td style = \"text-align: right;\">0</td><td style = \"text-align: right;\">1</td><td style = \"text-align: right;\">1</td><td style = \"text-align: right;\">1</td><td style = \"text-align: right;\">0</td><td style = \"text-align: right;\">0</td><td style = \"text-align: right;\">0</td><td style = \"text-align: right;\">1</td><td style = \"text-align: right;\">7.58291</td><td style = \"text-align: right;\">7.26024</td><td style = \"text-align: right;\">2.48651</td><td style = \"text-align: right;\">81</td><td style = \"text-align: right;\">-0.322671</td></tr><tr><td class = \"rowNumber\" style = \"font-weight: bold; text-align: right;\">2</td><td style = \"text-align: right;\">8.91266</td><td style = \"text-align: right;\">2.03717</td><td style = \"text-align: right;\">13</td><td style = \"text-align: right;\">1</td><td style = \"text-align: right;\">0</td><td style = \"text-align: right;\">0</td><td style = \"text-align: right;\">0</td><td style = \"text-align: right;\">8</td><td style = \"text-align: right;\">12</td><td style = \"text-align: right;\">10</td><td style = \"text-align: right;\">1</td><td style = \"text-align: right;\">4</td><td style = \"text-align: right;\">1</td><td style = \"text-align: right;\">1</td><td style = \"text-align: right;\">0</td><td style = \"text-align: right;\">0</td><td style = \"text-align: right;\">0</td><td style = \"text-align: right;\">1</td><td style = \"text-align: right;\">8.59514</td><td style = \"text-align: right;\">9.49954</td><td style = \"text-align: right;\">2.18747</td><td style = \"text-align: right;\">64</td><td style = \"text-align: right;\">0.904392</td></tr><tr><td class = \"rowNumber\" style = \"font-weight: bold; text-align: right;\">3</td><td style = \"text-align: right;\">15.5143</td><td style = \"text-align: right;\">2.4759</td><td style = \"text-align: right;\">15</td><td style = \"text-align: right;\">1</td><td style = \"text-align: right;\">0</td><td style = \"text-align: right;\">0</td><td style = \"text-align: right;\">0</td><td style = \"text-align: right;\">11</td><td style = \"text-align: right;\">12</td><td style = \"text-align: right;\">16</td><td style = \"text-align: right;\">0</td><td style = \"text-align: right;\">2</td><td style = \"text-align: right;\">1</td><td style = \"text-align: right;\">1</td><td style = \"text-align: right;\">0</td><td style = \"text-align: right;\">0</td><td style = \"text-align: right;\">0</td><td style = \"text-align: right;\">1</td><td style = \"text-align: right;\">7.31135</td><td style = \"text-align: right;\">7.31135</td><td style = \"text-align: right;\">2.74176</td><td style = \"text-align: right;\">121</td><td style = \"text-align: right;\">0.0</td></tr><tr><td class = \"rowNumber\" style = \"font-weight: bold; text-align: right;\">4</td><td style = \"text-align: right;\">13.3333</td><td style = \"text-align: right;\">3.60924</td><td style = \"text-align: right;\">15</td><td style = \"text-align: right;\">1</td><td style = \"text-align: right;\">0</td><td style = \"text-align: right;\">0</td><td style = \"text-align: right;\">0</td><td style = \"text-align: right;\">6</td><td style = \"text-align: right;\">12</td><td style = \"text-align: right;\">12</td><td style = \"text-align: right;\">0</td><td style = \"text-align: right;\">1</td><td style = \"text-align: right;\">1</td><td style = \"text-align: right;\">1</td><td style = \"text-align: right;\">0</td><td style = \"text-align: right;\">0</td><td style = \"text-align: right;\">0</td><td style = \"text-align: right;\">1</td><td style = \"text-align: right;\">9.49954</td><td style = \"text-align: right;\">10.1621</td><td style = \"text-align: right;\">2.59027</td><td style = \"text-align: right;\">36</td><td style = \"text-align: right;\">0.662534</td></tr><tr><td class = \"rowNumber\" style = \"font-weight: bold; text-align: right;\">5</td><td style = \"text-align: right;\">11.0701</td><td style = \"text-align: right;\">2.63655</td><td style = \"text-align: right;\">13</td><td style = \"text-align: right;\">1</td><td style = \"text-align: right;\">0</td><td style = \"text-align: right;\">0</td><td style = \"text-align: right;\">0</td><td style = \"text-align: right;\">15</td><td style = \"text-align: right;\">12</td><td style = \"text-align: right;\">15</td><td style = \"text-align: right;\">1</td><td style = \"text-align: right;\">2</td><td style = \"text-align: right;\">1</td><td style = \"text-align: right;\">1</td><td style = \"text-align: right;\">0</td><td style = \"text-align: right;\">0</td><td style = \"text-align: right;\">0</td><td style = \"text-align: right;\">1</td><td style = \"text-align: right;\">7.31135</td><td style = \"text-align: right;\">7.31135</td><td style = \"text-align: right;\">2.40425</td><td style = \"text-align: right;\">225</td><td style = \"text-align: right;\">0.0</td></tr></tbody></table></div>"
      ],
      "text/latex": [
       "\\begin{tabular}{r|ccccccccccc}\n",
       "\t& wage & abil & educ & ne & nc & west & south & exper & motheduc & fatheduc & \\\\\n",
       "\t\\hline\n",
       "\t& Float64 & Float64 & Int64 & Int64 & Int64 & Int64 & Int64 & Int64 & Int64 & Int64 & \\\\\n",
       "\t\\hline\n",
       "\t1 & 12.0192 & 5.02774 & 15 & 0 & 0 & 1 & 0 & 9 & 12 & 12 & $\\dots$ \\\\\n",
       "\t2 & 8.91266 & 2.03717 & 13 & 1 & 0 & 0 & 0 & 8 & 12 & 10 & $\\dots$ \\\\\n",
       "\t3 & 15.5143 & 2.4759 & 15 & 1 & 0 & 0 & 0 & 11 & 12 & 16 & $\\dots$ \\\\\n",
       "\t4 & 13.3333 & 3.60924 & 15 & 1 & 0 & 0 & 0 & 6 & 12 & 12 & $\\dots$ \\\\\n",
       "\t5 & 11.0701 & 2.63655 & 13 & 1 & 0 & 0 & 0 & 15 & 12 & 15 & $\\dots$ \\\\\n",
       "\\end{tabular}\n"
      ],
      "text/plain": [
       "\u001b[1m5×23 DataFrame\u001b[0m\n",
       "\u001b[1m Row \u001b[0m│\u001b[1m wage     \u001b[0m\u001b[1m abil    \u001b[0m\u001b[1m educ  \u001b[0m\u001b[1m ne    \u001b[0m\u001b[1m nc    \u001b[0m\u001b[1m west  \u001b[0m\u001b[1m south \u001b[0m\u001b[1m exper \u001b[0m\u001b[1m motheduc \u001b[0m\u001b[1m \u001b[0m ⋯\n",
       "     │\u001b[90m Float64  \u001b[0m\u001b[90m Float64 \u001b[0m\u001b[90m Int64 \u001b[0m\u001b[90m Int64 \u001b[0m\u001b[90m Int64 \u001b[0m\u001b[90m Int64 \u001b[0m\u001b[90m Int64 \u001b[0m\u001b[90m Int64 \u001b[0m\u001b[90m Int64    \u001b[0m\u001b[90m \u001b[0m ⋯\n",
       "─────┼──────────────────────────────────────────────────────────────────────────\n",
       "   1 │ 12.0192   5.02774     15      0      0      1      0      9        12   ⋯\n",
       "   2 │  8.91266  2.03717     13      1      0      0      0      8        12\n",
       "   3 │ 15.5143   2.4759      15      1      0      0      0     11        12\n",
       "   4 │ 13.3333   3.60924     15      1      0      0      0      6        12\n",
       "   5 │ 11.0701   2.63655     13      1      0      0      0     15        12   ⋯\n",
       "\u001b[36m                                                              14 columns omitted\u001b[0m"
      ]
     },
     "execution_count": 53,
     "metadata": {},
     "output_type": "execute_result"
    }
   ],
   "source": [
    "htv = DataFrame(wooldridge(\"htv\"))\n",
    "first(htv, 5)"
   ]
  },
  {
   "cell_type": "code",
   "execution_count": 54,
   "metadata": {},
   "outputs": [
    {
     "data": {
      "text/plain": [
       "StatsModels.TableRegressionModel{LinearModel{GLM.LmResp{Vector{Float64}}, GLM.DensePredChol{Float64, LinearAlgebra.CholeskyPivoted{Float64, Matrix{Float64}, Vector{Int64}}}}, Matrix{Float64}}\n",
       "\n",
       "educ ~ 1 + motheduc + fatheduc + abil + :(abil ^ 2)\n",
       "\n",
       "Coefficients:\n",
       "────────────────────────────────────────────────────────────────────────\n",
       "                Coef.  Std. Error      t  Pr(>|t|)  Lower 95%  Upper 95%\n",
       "────────────────────────────────────────────────────────────────────────\n",
       "(Intercept)  8.24023    0.28741    28.67    <1e-99  7.67636    8.8041\n",
       "motheduc     0.190126   0.0280957   6.77    <1e-10  0.135005   0.245247\n",
       "fatheduc     0.108939   0.0196014   5.56    <1e-07  0.0704827  0.147395\n",
       "abil         0.401462   0.0302875  13.26    <1e-36  0.342041   0.460884\n",
       "abil ^ 2     0.050599   0.0083039   6.09    <1e-08  0.0343076  0.0668905\n",
       "────────────────────────────────────────────────────────────────────────"
      ]
     },
     "execution_count": 54,
     "metadata": {},
     "output_type": "execute_result"
    }
   ],
   "source": [
    "modelo4 = lm(@formula(educ ~ motheduc + fatheduc + abil + abil^2), htv)"
   ]
  },
  {
   "cell_type": "markdown",
   "metadata": {},
   "source": [
    "### Item a"
   ]
  },
  {
   "cell_type": "code",
   "execution_count": 58,
   "metadata": {},
   "outputs": [
    {
     "data": {
      "text/plain": [
       "StatsModels.TableRegressionModel{LinearModel{GLM.LmResp{Vector{Float64}}, GLM.DensePredChol{Float64, LinearAlgebra.CholeskyPivoted{Float64, Matrix{Float64}, Vector{Int64}}}}, Matrix{Float64}}\n",
       "\n",
       "educ ~ 1 + newvar + abil + :(abil ^ 2)\n",
       "\n",
       "Coefficients:\n",
       "─────────────────────────────────────────────────────────────────────────────\n",
       "                  Coef.  Std. Error       t  Pr(>|t|)   Lower 95%   Upper 95%\n",
       "─────────────────────────────────────────────────────────────────────────────\n",
       "(Intercept)  11.6642     0.0788618   147.91    <1e-99  11.5095     11.819\n",
       "newvar       -0.062451   0.0203867    -3.06    0.0022  -0.102448   -0.0224544\n",
       "abil          0.526216   0.0302571    17.39    <1e-59   0.466855    0.585578\n",
       "abil ^ 2      0.0513976  0.00880056    5.84    <1e-08   0.0341318   0.0686635\n",
       "─────────────────────────────────────────────────────────────────────────────"
      ]
     },
     "execution_count": 58,
     "metadata": {},
     "output_type": "execute_result"
    }
   ],
   "source": [
    "htv.newvar = htv.motheduc - htv.fatheduc\n",
    "\n",
    "modelor = lm(@formula(educ ~ newvar + abil + abil^2), htv)"
   ]
  },
  {
   "cell_type": "markdown",
   "metadata": {},
   "source": [
    "### Item c"
   ]
  },
  {
   "cell_type": "code",
   "execution_count": 60,
   "metadata": {},
   "outputs": [
    {
     "data": {
      "text/plain": [
       "0.0"
      ]
     },
     "execution_count": 60,
     "metadata": {},
     "output_type": "execute_result"
    }
   ],
   "source": [
    "modelor = lm(@formula(educ ~ motheduc + fatheduc), htv)\n",
    "\n",
    "SQRi = sum(residuals(modelo4) .^ 2)\n",
    "SQRr = sum(residuals(modelor) .^ 2)\n",
    "\n",
    "Fobs = ((SQRr-SQRi)/SQRi) * ((nrow(htv)-5)/2)\n",
    "pvalor = 1 - cdf(FDist(2, nrow(htv)-5), Fobs)"
   ]
  }
 ],
 "metadata": {
  "kernelspec": {
   "display_name": "Julia 1.9.2",
   "language": "julia",
   "name": "julia-1.9"
  },
  "language_info": {
   "file_extension": ".jl",
   "mimetype": "application/julia",
   "name": "julia",
   "version": "1.9.2"
  },
  "orig_nbformat": 4
 },
 "nbformat": 4,
 "nbformat_minor": 2
}
